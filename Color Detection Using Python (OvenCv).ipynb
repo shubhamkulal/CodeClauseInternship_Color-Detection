{
 "cells": [
  {
   "cell_type": "code",
   "execution_count": 2,
   "id": "55e1f2cc",
   "metadata": {},
   "outputs": [],
   "source": [
    "import cv2\n",
    "import pandas as pd\n",
    "import numpy as np"
   ]
  },
  {
   "cell_type": "markdown",
   "id": "6f8e4ddf",
   "metadata": {},
   "source": [
    "# Load the CSV data and give names to each column"
   ]
  },
  {
   "cell_type": "code",
   "execution_count": 3,
   "id": "ca15da79",
   "metadata": {},
   "outputs": [],
   "source": [
    "index = [\"color\", \"color_name\", \"hex\", \"R\", \"G\", \"B\"]\n",
    "\n",
    "csv = pd.read_csv('C:/Users/Shubh/Downloads/archive/colors.csv', names=index, header=None)"
   ]
  },
  {
   "cell_type": "markdown",
   "id": "bf422fea",
   "metadata": {},
   "source": [
    "# Load the image"
   ]
  },
  {
   "cell_type": "code",
   "execution_count": 4,
   "id": "8bb1e087",
   "metadata": {},
   "outputs": [],
   "source": [
    "img_path = \"C:/Users/Shubh/OneDrive/Desktop/Color detection image.jpg\"\n",
    "\n",
    "img = cv2.imread(img_path)"
   ]
  },
  {
   "cell_type": "markdown",
   "id": "fae861ec",
   "metadata": {},
   "source": [
    "# Function to get the color name based on RGB values"
   ]
  },
  {
   "cell_type": "code",
   "execution_count": 5,
   "id": "78c3aecb",
   "metadata": {},
   "outputs": [],
   "source": [
    "def getColorName(R, G, B):\n",
    "    minimum = 1000\n",
    "    color_name = \"\"\n",
    "    for i in range(len(csv)):\n",
    "        d = abs(R - int(csv.loc[i, \"R\"])) + abs(G - int(csv.loc[i, \"G\"])) + abs(B - int(csv.loc[i, \"B\"]))\n",
    "        if d < minimum:\n",
    "            minimum = d\n",
    "            color_name = csv.loc[i, \"color_name\"]\n",
    "    return color_name"
   ]
  },
  {
   "cell_type": "markdown",
   "id": "d6886d7a",
   "metadata": {},
   "source": [
    "# Mouse callback function to get pixel color on double-click"
   ]
  },
  {
   "cell_type": "code",
   "execution_count": 6,
   "id": "16e46f6b",
   "metadata": {},
   "outputs": [],
   "source": [
    "def draw_function(event, x, y, flags, param):\n",
    "    if event == cv2.EVENT_LBUTTONDBLCLK:\n",
    "        global b, g, r\n",
    "        b, g, r = img[y, x]\n",
    "        b = int(b)\n",
    "        g = int(g)\n",
    "        r = int(r)"
   ]
  },
  {
   "cell_type": "markdown",
   "id": "b27d5398",
   "metadata": {},
   "source": [
    "# Create a Window and Set Callback"
   ]
  },
  {
   "cell_type": "code",
   "execution_count": 7,
   "id": "4d02939a",
   "metadata": {},
   "outputs": [],
   "source": [
    "cv2.namedWindow('color detection')\n",
    "cv2.setMouseCallback('color detection', draw_function)"
   ]
  },
  {
   "cell_type": "markdown",
   "id": "9ba71ec3",
   "metadata": {},
   "source": [
    "# Main Loop for Interaction"
   ]
  },
  {
   "cell_type": "code",
   "execution_count": 8,
   "id": "31d8ba15",
   "metadata": {
    "scrolled": true
   },
   "outputs": [
    {
     "name": "stdout",
     "output_type": "stream",
     "text": [
      "Color Name: Persian Plum\n",
      "Color Name: Sandstorm\n",
      "Color Name: Champagne\n",
      "Color Name: Lavender Blue\n",
      "Color Name: Lavender Blue\n",
      "Color Name: Lavender Blue\n",
      "Color Name: Dark Electric Blue\n",
      "Color Name: Glitter\n",
      "Color Name: Sandstorm\n",
      "Color Name: Ash Grey\n",
      "Color Name: Caput Mortuum\n"
     ]
    }
   ],
   "source": [
    "def draw_function(event, x, y, flags, param):\n",
    "    global b, g, r, xpos, ypos, clicked\n",
    "    if event == cv2.EVENT_LBUTTONDBLCLK:\n",
    "        clicked = True\n",
    "        xpos = x\n",
    "        ypos = y\n",
    "        b, g, r = img[y, x]\n",
    "        b = int(b)\n",
    "        g = int(g)\n",
    "        r = int(r)\n",
    "\n",
    "cv2.namedWindow('color detection')\n",
    "cv2.setMouseCallback('color detection', draw_function)\n",
    "\n",
    "while True:\n",
    "    cv2.imshow(\"color detection\", img)\n",
    "    \n",
    "    k = cv2.waitKey(20) & 0xFF # TO Capture ASCII value of the key \n",
    "    \n",
    "    if k == 27:  # If 'ESC' is pressed, exit\n",
    "        \n",
    "        break\n",
    "        \n",
    "    elif k == ord('c'):  # If 'c' is pressed, show color info\n",
    "        \n",
    "        if clicked:\n",
    "            color_name = getColorName(r, g, b)\n",
    "            print(\"Color Name:\", color_name)\n",
    "\n",
    "cv2.destroyAllWindows()"
   ]
  },
  {
   "cell_type": "code",
   "execution_count": null,
   "id": "951bb09f",
   "metadata": {},
   "outputs": [],
   "source": []
  }
 ],
 "metadata": {
  "kernelspec": {
   "display_name": "Python 3 (ipykernel)",
   "language": "python",
   "name": "python3"
  },
  "language_info": {
   "codemirror_mode": {
    "name": "ipython",
    "version": 3
   },
   "file_extension": ".py",
   "mimetype": "text/x-python",
   "name": "python",
   "nbconvert_exporter": "python",
   "pygments_lexer": "ipython3",
   "version": "3.11.4"
  }
 },
 "nbformat": 4,
 "nbformat_minor": 5
}
